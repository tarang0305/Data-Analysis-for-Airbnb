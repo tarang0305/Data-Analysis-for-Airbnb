{
 "cells": [
  {
   "cell_type": "markdown",
   "metadata": {},
   "source": [
    "# Airbnb User Booking Analysis "
   ]
  },
  {
   "cell_type": "markdown",
   "metadata": {},
   "source": [
    "# DAV - Final Project"
   ]
  },
  {
   "cell_type": "markdown",
   "metadata": {},
   "source": [
    "# Submission By"
   ]
  },
  {
   "cell_type": "markdown",
   "metadata": {},
   "source": [
    "Sagar Vasaikar, Saachi Shah, Tarang Haria"
   ]
  },
  {
   "cell_type": "markdown",
   "metadata": {},
   "source": [
    "# INTRODUCTION"
   ]
  },
  {
   "cell_type": "markdown",
   "metadata": {},
   "source": [
    "AirBnb is a vacation rental marketplace with more than 2,000,000 vacation rentals in 190 countries listed on its website.It operates through 50 websites in 23 languages through which it offers rentals of cabins, condos, castles, villas, barns, and farmhouses. Founded in February 2005 and headquartered in Austin, Texas, the company became a publicly traded company in 2011. Expedia acquired AirBnb on December 15, 2015. Members can use the service to arrange or offer lodging, primarily homestays, or tourism experiences. The company does not own any of the real estate listings, nor does it host events; as a broker, it receives commissions from every booking. HomeAway is an online marketplace and hospitality service, enabling people to lease or rent short-term lodging including vacation rentals , apartment rentals, homestays , hostels beds, or hotel roo ms. New users on Airbnb can book a place to stay in 34,000+ cities across 190+ countries"
   ]
  },
  {
   "cell_type": "markdown",
   "metadata": {},
   "source": [
    "# PROBLEM STATEMENT\n",
    "Problem Statement- Airbnb is a vacation rental marketplace with more than 2,000,000 vacation rentals in 190 countries listed on its website. It operates through 50 websites in 23 languages through which it offers rentals of cabins, condos, castles, villas, barns, and farmhouses. Members can use the service to arrange or offer lodging, primarily homestays, or tourism experiences. By accurately predicting where a new user will book their first travel experience, Airbnb can share more personalized content with their community, decrease the average time to first booking, and better forecast demand."
   ]
  },
  {
   "cell_type": "markdown",
   "metadata": {},
   "source": [
    "# Insights\n",
    "1)Examining users Age, Gender, Previous Destinations and then predicting users next preferred\n",
    "destination and also the best time to visit destinations.\n",
    "\n",
    "2)We will also try to predict number of times they visited the website and the networking trail\n",
    "they use to make the decisions.\n",
    "\n",
    "3)Target Marketing – Will help Airbnb target right customers based on age, sex, location,\n",
    "language etc"
   ]
  },
  {
   "cell_type": "markdown",
   "metadata": {},
   "source": [
    "# File descriptions\n"
   ]
  },
  {
   "cell_type": "markdown",
   "metadata": {},
   "source": [
    "• train_users.csv - the training set of users • test_users.csv - the test set of users o id: user id o date_account_created: the date of account creation o timestamp_first_active: timestamp of the first activity, note that it can be earlier than date_account_created or date_first_booking because a user can search before signing up o date_first_booking: date of first booking o gender o age o signup_method o signup_flow: the page a user came to signup up from o language: international language preference o affiliate_channel: what kind of paid marketing o affiliate_provider: where the marketing is e.g. google, craigslist, other o first_affiliate_tracked: whats the first marketing the user interacted with before the signing up o signup_app o first_device_type o first_browser o country_destination: this is the target variable you are to predict • sessions.csv - web sessions log for users o user_id: to be joined with the column 'id' in users table o action o action_type o action_detail o device_type o secs_elapsed • countries.csv - summary statistics of destination countries in this dataset and their locations • age_gender_bkts.csv - summary statistics of users' age group, gender, country of destination • sample_submission.csv - correct format for submitting your predictions"
   ]
  },
  {
   "cell_type": "markdown",
   "metadata": {},
   "source": [
    "# Assumption of the data made:\n",
    "The training and test sets are split by dates. In the test set, you will predict al\n",
    "l the new users with first activities after 7/1/2014. In the sessions dataset, the data only dates back to 1/1/2014, while the users dataset dates back to 2010. There are 12 possible outcomes of the destination country: 'US', 'FR', 'CA', 'GB', 'ES', 'IT', 'PT', 'NL','DE', 'AU', 'NDF' (no destination found), and 'other'. Please note that 'NDF' is different from 'other' because 'other' means there was a booking, but is to a country not included in the list, while 'NDF' means there wasn't a booking."
   ]
  },
  {
   "cell_type": "markdown",
   "metadata": {},
   "source": [
    "# Packages Used:\n",
    "Numpy: Numpy is a library for the Python programming language, adding support for large, multi-dimensional arrays and matrices, along with a large collection of high-level mathematical functions to operate on these arrays.\n",
    "\n",
    "Pandas: Pandas is a software library written for the Python programming language for data manipulation and analysis. In particular, it offers data structures and operations for manipulating numerical tables and time series.\n",
    "\n",
    "Seaborn: Seaborn is a Python data visualization library based on matplotlib. It provides a high-level interface for drawing attractive and informative statistical graphics.\n",
    "\n",
    "matplotlib.pyplot: Matplotlib is a plotting library for the Python programming language and its numerical mathematics extension NumPy. Pyplot is a matplotlib module which provides a MATLAB-like interface. Matplotlib is designed to be as usable as MATLAB, with the ability to use Python, and the advantage of being free and open-source.\n",
    "\n",
    "sklearn.model_selection: Scikit-learn (formerly scikits.learn) is a free software machine learning library for the Python programming language. It features various classification, regression and clustering algorithms including support vector machines, random forests, gradient boosting, k-means and DBSCAN, and is designed to interoperate with the Python numerical and scientific libraries NumPy and SciPy."
   ]
  },
  {
   "cell_type": "code",
   "execution_count": 83,
   "metadata": {},
   "outputs": [],
   "source": [
    "import numpy as np\n",
    "import pandas as pd \n",
    "import seaborn as sns\n",
    "import matplotlib.pyplot as plt\n",
    "import matplotlib as mpl\n",
    "import datetime\n",
    "%matplotlib inline\n",
    "from sklearn.model_selection import train_test_split"
   ]
  },
  {
   "cell_type": "code",
   "execution_count": 84,
   "metadata": {},
   "outputs": [],
   "source": [
    "# Load the data into DataFrames\n",
    "train_users = pd.read_csv('C:/Users/shahs/Desktop/Rutgers/Sem 2/STATS & ML/train_users_2.csv')\n",
    "test_users = pd.read_csv('C:/Users/shahs/Desktop/Rutgers/Sem 2/STATS & ML/test_users.csv')\n",
    "countries= pd.read_csv('C:/Users/shahs/Desktop/Rutgers/Sem 2/STATS & ML/countries.csv')\n",
    "sessions=pd.read_csv('C:/Users/shahs/Desktop/Rutgers/Sem 2/STATS & ML/sessions.csv')   "
   ]
  },
  {
   "cell_type": "code",
   "execution_count": 85,
   "metadata": {},
   "outputs": [
    {
     "name": "stdout",
     "output_type": "stream",
     "text": [
      "We have 213451 users in the training set and 62096 in the test set.\n",
      "In total we have 275547 users.\n"
     ]
    }
   ],
   "source": [
    "print(\"We have\", train_users.shape[0], \"users in the training set and\", \n",
    "      test_users.shape[0], \"in the test set.\")\n",
    "print(\"In total we have\", train_users.shape[0] + test_users.shape[0], \"users.\")"
   ]
  },
  {
   "cell_type": "code",
   "execution_count": 86,
   "metadata": {},
   "outputs": [
    {
     "name": "stderr",
     "output_type": "stream",
     "text": [
      "C:\\Users\\shahs\\aa\\lib\\site-packages\\ipykernel_launcher.py:2: FutureWarning: Sorting because non-concatenation axis is not aligned. A future version\n",
      "of pandas will change to not sort by default.\n",
      "\n",
      "To accept the future behavior, pass 'sort=False'.\n",
      "\n",
      "To retain the current behavior and silence the warning, pass 'sort=True'.\n",
      "\n",
      "  \n"
     ]
    },
    {
     "data": {
      "text/html": [
       "<div>\n",
       "<style scoped>\n",
       "    .dataframe tbody tr th:only-of-type {\n",
       "        vertical-align: middle;\n",
       "    }\n",
       "\n",
       "    .dataframe tbody tr th {\n",
       "        vertical-align: top;\n",
       "    }\n",
       "\n",
       "    .dataframe thead th {\n",
       "        text-align: right;\n",
       "    }\n",
       "</style>\n",
       "<table border=\"1\" class=\"dataframe\">\n",
       "  <thead>\n",
       "    <tr style=\"text-align: right;\">\n",
       "      <th></th>\n",
       "      <th>affiliate_channel</th>\n",
       "      <th>affiliate_provider</th>\n",
       "      <th>age</th>\n",
       "      <th>country_destination</th>\n",
       "      <th>date_account_created</th>\n",
       "      <th>date_first_booking</th>\n",
       "      <th>first_affiliate_tracked</th>\n",
       "      <th>first_browser</th>\n",
       "      <th>first_device_type</th>\n",
       "      <th>gender</th>\n",
       "      <th>id</th>\n",
       "      <th>language</th>\n",
       "      <th>signup_app</th>\n",
       "      <th>signup_flow</th>\n",
       "      <th>signup_method</th>\n",
       "      <th>timestamp_first_active</th>\n",
       "    </tr>\n",
       "  </thead>\n",
       "  <tbody>\n",
       "    <tr>\n",
       "      <th>0</th>\n",
       "      <td>direct</td>\n",
       "      <td>direct</td>\n",
       "      <td>NaN</td>\n",
       "      <td>NDF</td>\n",
       "      <td>6/28/2010</td>\n",
       "      <td>NaN</td>\n",
       "      <td>untracked</td>\n",
       "      <td>Chrome</td>\n",
       "      <td>Mac Desktop</td>\n",
       "      <td>-unknown-</td>\n",
       "      <td>gxn3p5htnn</td>\n",
       "      <td>en</td>\n",
       "      <td>Web</td>\n",
       "      <td>0</td>\n",
       "      <td>facebook</td>\n",
       "      <td>2.009030e+13</td>\n",
       "    </tr>\n",
       "    <tr>\n",
       "      <th>1</th>\n",
       "      <td>seo</td>\n",
       "      <td>google</td>\n",
       "      <td>38.0</td>\n",
       "      <td>NDF</td>\n",
       "      <td>5/25/2011</td>\n",
       "      <td>NaN</td>\n",
       "      <td>untracked</td>\n",
       "      <td>Chrome</td>\n",
       "      <td>Mac Desktop</td>\n",
       "      <td>MALE</td>\n",
       "      <td>820tgsjxq7</td>\n",
       "      <td>en</td>\n",
       "      <td>Web</td>\n",
       "      <td>0</td>\n",
       "      <td>facebook</td>\n",
       "      <td>2.009050e+13</td>\n",
       "    </tr>\n",
       "    <tr>\n",
       "      <th>2</th>\n",
       "      <td>direct</td>\n",
       "      <td>direct</td>\n",
       "      <td>56.0</td>\n",
       "      <td>US</td>\n",
       "      <td>9/28/2010</td>\n",
       "      <td>8/2/2010</td>\n",
       "      <td>untracked</td>\n",
       "      <td>IE</td>\n",
       "      <td>Windows Desktop</td>\n",
       "      <td>FEMALE</td>\n",
       "      <td>4ft3gnwmtx</td>\n",
       "      <td>en</td>\n",
       "      <td>Web</td>\n",
       "      <td>3</td>\n",
       "      <td>basic</td>\n",
       "      <td>2.009060e+13</td>\n",
       "    </tr>\n",
       "    <tr>\n",
       "      <th>3</th>\n",
       "      <td>direct</td>\n",
       "      <td>direct</td>\n",
       "      <td>42.0</td>\n",
       "      <td>other</td>\n",
       "      <td>12/5/2011</td>\n",
       "      <td>9/8/2012</td>\n",
       "      <td>untracked</td>\n",
       "      <td>Firefox</td>\n",
       "      <td>Mac Desktop</td>\n",
       "      <td>FEMALE</td>\n",
       "      <td>bjjt8pjhuk</td>\n",
       "      <td>en</td>\n",
       "      <td>Web</td>\n",
       "      <td>0</td>\n",
       "      <td>facebook</td>\n",
       "      <td>2.009100e+13</td>\n",
       "    </tr>\n",
       "    <tr>\n",
       "      <th>4</th>\n",
       "      <td>direct</td>\n",
       "      <td>direct</td>\n",
       "      <td>41.0</td>\n",
       "      <td>US</td>\n",
       "      <td>9/14/2010</td>\n",
       "      <td>2/18/2010</td>\n",
       "      <td>untracked</td>\n",
       "      <td>Chrome</td>\n",
       "      <td>Mac Desktop</td>\n",
       "      <td>-unknown-</td>\n",
       "      <td>87mebub9p4</td>\n",
       "      <td>en</td>\n",
       "      <td>Web</td>\n",
       "      <td>0</td>\n",
       "      <td>basic</td>\n",
       "      <td>2.009120e+13</td>\n",
       "    </tr>\n",
       "  </tbody>\n",
       "</table>\n",
       "</div>"
      ],
      "text/plain": [
       "  affiliate_channel affiliate_provider   age country_destination  \\\n",
       "0            direct             direct   NaN                 NDF   \n",
       "1               seo             google  38.0                 NDF   \n",
       "2            direct             direct  56.0                  US   \n",
       "3            direct             direct  42.0               other   \n",
       "4            direct             direct  41.0                  US   \n",
       "\n",
       "  date_account_created date_first_booking first_affiliate_tracked  \\\n",
       "0            6/28/2010                NaN               untracked   \n",
       "1            5/25/2011                NaN               untracked   \n",
       "2            9/28/2010           8/2/2010               untracked   \n",
       "3            12/5/2011           9/8/2012               untracked   \n",
       "4            9/14/2010          2/18/2010               untracked   \n",
       "\n",
       "  first_browser first_device_type     gender          id language signup_app  \\\n",
       "0        Chrome       Mac Desktop  -unknown-  gxn3p5htnn       en        Web   \n",
       "1        Chrome       Mac Desktop       MALE  820tgsjxq7       en        Web   \n",
       "2            IE   Windows Desktop     FEMALE  4ft3gnwmtx       en        Web   \n",
       "3       Firefox       Mac Desktop     FEMALE  bjjt8pjhuk       en        Web   \n",
       "4        Chrome       Mac Desktop  -unknown-  87mebub9p4       en        Web   \n",
       "\n",
       "   signup_flow signup_method  timestamp_first_active  \n",
       "0            0      facebook            2.009030e+13  \n",
       "1            0      facebook            2.009050e+13  \n",
       "2            3         basic            2.009060e+13  \n",
       "3            0      facebook            2.009100e+13  \n",
       "4            0         basic            2.009120e+13  "
      ]
     },
     "execution_count": 86,
     "metadata": {},
     "output_type": "execute_result"
    }
   ],
   "source": [
    "# Merge train and test users\n",
    "users = pd.concat((train_users, test_users), axis=0, ignore_index=True)\n",
    "users.head()"
   ]
  },
  {
   "cell_type": "code",
   "execution_count": 47,
   "metadata": {},
   "outputs": [
    {
     "name": "stdout",
     "output_type": "stream",
     "text": [
      "Requirement already satisfied: missingno in c:\\users\\shahs\\aa\\lib\\site-packages (0.4.1)\n",
      "Requirement already satisfied: seaborn in c:\\users\\shahs\\aa\\lib\\site-packages (from missingno) (0.9.0)\n",
      "Requirement already satisfied: scipy in c:\\users\\shahs\\aa\\lib\\site-packages (from missingno) (1.1.0)\n",
      "Requirement already satisfied: numpy in c:\\users\\shahs\\aa\\lib\\site-packages (from missingno) (1.15.4)\n",
      "Requirement already satisfied: matplotlib in c:\\users\\shahs\\aa\\lib\\site-packages (from missingno) (3.0.2)\n",
      "Requirement already satisfied: pandas>=0.15.2 in c:\\users\\shahs\\aa\\lib\\site-packages (from seaborn->missingno) (0.23.4)\n",
      "Requirement already satisfied: cycler>=0.10 in c:\\users\\shahs\\aa\\lib\\site-packages (from matplotlib->missingno) (0.10.0)\n",
      "Requirement already satisfied: kiwisolver>=1.0.1 in c:\\users\\shahs\\aa\\lib\\site-packages (from matplotlib->missingno) (1.0.1)\n",
      "Requirement already satisfied: pyparsing!=2.0.4,!=2.1.2,!=2.1.6,>=2.0.1 in c:\\users\\shahs\\aa\\lib\\site-packages (from matplotlib->missingno) (2.3.0)\n",
      "Requirement already satisfied: python-dateutil>=2.1 in c:\\users\\shahs\\aa\\lib\\site-packages (from matplotlib->missingno) (2.7.5)\n",
      "Requirement already satisfied: pytz>=2011k in c:\\users\\shahs\\aa\\lib\\site-packages (from pandas>=0.15.2->seaborn->missingno) (2018.7)\n",
      "Requirement already satisfied: six in c:\\users\\shahs\\aa\\lib\\site-packages (from cycler>=0.10->matplotlib->missingno) (1.12.0)\n",
      "Requirement already satisfied: setuptools in c:\\users\\shahs\\aa\\lib\\site-packages (from kiwisolver>=1.0.1->matplotlib->missingno) (40.6.3)\n"
     ]
    },
    {
     "data": {
      "text/plain": [
       "<matplotlib.axes._subplots.AxesSubplot at 0x1d58dd97518>"
      ]
     },
     "execution_count": 47,
     "metadata": {},
     "output_type": "execute_result"
    },
    {
     "data": {
      "image/png": "[encoded data removed]",
      "text/plain": [
       "<Figure size 1800x720 with 2 Axes>"
      ]
     },
     "metadata": {
      "needs_background": "light"
     },
     "output_type": "display_data"
    }
   ],
   "source": [
    "!pip install missingno\n",
    "import missingno as msno\n",
    "msno.matrix(users)"
   ]
  },
  {
   "cell_type": "markdown",
   "metadata": {},
   "source": [
    "# Data Cleaning"
   ]
  },
  {
   "cell_type": "markdown",
   "metadata": {},
   "source": [
    "Usually the missing data comes in the way of NaN, but if we take a look at the DataFrame printed above we can see at the gender column some values being -unknown-. We will need to transform those values into NaN first:"
   ]
  },
  {
   "cell_type": "code",
   "execution_count": 87,
   "metadata": {},
   "outputs": [],
   "source": [
    "users.gender.replace('-unknown-', np.nan, inplace=True)\n",
    "users.gender.replace('Nan', np.nan, inplace=True)"
   ]
  },
  {
   "cell_type": "markdown",
   "metadata": {},
   "source": [
    "Now let's see how much data we are missing. For this purpose let's compute the NaN percentage of each feature."
   ]
  },
  {
   "cell_type": "code",
   "execution_count": 88,
   "metadata": {},
   "outputs": [
    {
     "data": {
      "text/plain": [
       "age                        42.412365\n",
       "country_destination        22.535538\n",
       "date_first_booking         67.733998\n",
       "first_affiliate_tracked     2.208335\n",
       "gender                     46.990169\n",
       "dtype: float64"
      ]
     },
     "execution_count": 88,
     "metadata": {},
     "output_type": "execute_result"
    }
   ],
   "source": [
    "users_nan = (users.isnull().sum() / users.shape[0]) * 100\n",
    "users_nan[users_nan > 0]"
   ]
  },
  {
   "cell_type": "markdown",
   "metadata": {},
   "source": [
    "We see that there are quite a lot of NaN in the age and gender wich will yield in lesser performance of the classifiers we will build. The feature date_first_booking has a 67% of NaN values because this feature is not present at the tests users, and therefore, we won't need it at the modeling part."
   ]
  },
  {
   "cell_type": "code",
   "execution_count": 89,
   "metadata": {},
   "outputs": [
    {
     "data": {
      "text/plain": [
       "count    158681.000000\n",
       "mean         47.145310\n",
       "std         142.629468\n",
       "min           1.000000\n",
       "25%          28.000000\n",
       "50%          33.000000\n",
       "75%          42.000000\n",
       "max        2014.000000\n",
       "Name: age, dtype: float64"
      ]
     },
     "execution_count": 89,
     "metadata": {},
     "output_type": "execute_result"
    }
   ],
   "source": [
    "users.age.describe()"
   ]
  },
  {
   "cell_type": "markdown",
   "metadata": {},
   "source": [
    "\n",
    "There is some inconsistency in the age of some users as we can see above. It could be because the age inpout field was not sanitized or there was some mistakes handlig the data."
   ]
  },
  {
   "cell_type": "code",
   "execution_count": 90,
   "metadata": {},
   "outputs": [
    {
     "name": "stdout",
     "output_type": "stream",
     "text": [
      "830\n",
      "188\n"
     ]
    }
   ],
   "source": [
    "print(sum(users.age > 122))\n",
    "print(sum(users.age < 18))"
   ]
  },
  {
   "cell_type": "code",
   "execution_count": 91,
   "metadata": {
    "scrolled": true
   },
   "outputs": [
    {
     "data": {
      "text/plain": [
       "count     830.000000\n",
       "mean     2002.620482\n",
       "std        94.201344\n",
       "min       132.000000\n",
       "25%      2014.000000\n",
       "50%      2014.000000\n",
       "75%      2014.000000\n",
       "max      2014.000000\n",
       "Name: age, dtype: float64"
      ]
     },
     "execution_count": 91,
     "metadata": {},
     "output_type": "execute_result"
    }
   ],
   "source": [
    "users[users.age > 122]['age'].describe()"
   ]
  },
  {
   "cell_type": "code",
   "execution_count": 92,
   "metadata": {},
   "outputs": [
    {
     "data": {
      "text/plain": [
       "count    188.000000\n",
       "mean      12.718085\n",
       "std        5.764569\n",
       "min        1.000000\n",
       "25%        5.000000\n",
       "50%       16.000000\n",
       "75%       17.000000\n",
       "max       17.000000\n",
       "Name: age, dtype: float64"
      ]
     },
     "execution_count": 92,
     "metadata": {},
     "output_type": "execute_result"
    }
   ],
   "source": [
    "users[users.age < 18]['age'].describe()"
   ]
  },
  {
   "cell_type": "code",
   "execution_count": 93,
   "metadata": {},
   "outputs": [],
   "source": [
    "# get average, std, and number of NaN values in test_df\n",
    "average_age_test   = test_users[\"age\"].mean()\n",
    "std_age_test       = test_users[\"age\"].std()\n",
    "count_nan_age_test = test_users[\"age\"].isnull().sum()"
   ]
  },
  {
   "cell_type": "code",
   "execution_count": 94,
   "metadata": {},
   "outputs": [],
   "source": [
    "average_age_airbnb   = train_users[\"age\"].mean()\n",
    "std_age_airbnb       = train_users[\"age\"].std()\n",
    "count_nan_age_airbnb = train_users[\"age\"].isnull().sum()\n"
   ]
  },
  {
   "cell_type": "code",
   "execution_count": 95,
   "metadata": {},
   "outputs": [],
   "source": [
    "# generate random numbers between (mean - std) & (mean + std)\n",
    "rand_1 = np.random.randint(average_age_airbnb - std_age_airbnb, average_age_airbnb + std_age_airbnb, size = count_nan_age_airbnb)\n",
    "rand_2 = np.random.randint(average_age_test - std_age_test, average_age_test + std_age_test, size = count_nan_age_test)"
   ]
  },
  {
   "cell_type": "code",
   "execution_count": 96,
   "metadata": {},
   "outputs": [
    {
     "name": "stderr",
     "output_type": "stream",
     "text": [
      "C:\\Users\\shahs\\aa\\lib\\site-packages\\ipykernel_launcher.py:2: SettingWithCopyWarning: \n",
      "A value is trying to be set on a copy of a slice from a DataFrame\n",
      "\n",
      "See the caveats in the documentation: http://pandas.pydata.org/pandas-docs/stable/indexing.html#indexing-view-versus-copy\n",
      "  \n",
      "C:\\Users\\shahs\\aa\\lib\\site-packages\\ipykernel_launcher.py:3: SettingWithCopyWarning: \n",
      "A value is trying to be set on a copy of a slice from a DataFrame\n",
      "\n",
      "See the caveats in the documentation: http://pandas.pydata.org/pandas-docs/stable/indexing.html#indexing-view-versus-copy\n",
      "  This is separate from the ipykernel package so we can avoid doing imports until\n"
     ]
    }
   ],
   "source": [
    "# fill NaN values in Age column with random values generated\n",
    "train_users[\"age\"][np.isnan(train_users[\"age\"])] = rand_1\n",
    "test_users[\"age\"][np.isnan(test_users[\"age\"])]  = rand_2"
   ]
  },
  {
   "cell_type": "markdown",
   "metadata": {},
   "source": [
    "# Exploratory Data Analysis \n",
    "Exploratory Data Analysis (EDA) is a way for data analysis that states a variety of techniques,mainly graphical.\n",
    "\n",
    "1) Maximize the insights into a particular data set\n",
    "\n",
    "2) Detection of outliers and anomalies\n",
    "\n",
    "3) Extraction of the important variables\n",
    "\n",
    "4) Testing of the underlying assumptions"
   ]
  },
  {
   "cell_type": "code",
   "execution_count": 71,
   "metadata": {
    "scrolled": true
   },
   "outputs": [
    {
     "name": "stderr",
     "output_type": "stream",
     "text": [
      "C:\\Users\\shahs\\aa\\lib\\site-packages\\scipy\\stats\\stats.py:1713: FutureWarning: Using a non-tuple sequence for multidimensional indexing is deprecated; use `arr[tuple(seq)]` instead of `arr[seq]`. In the future this will be interpreted as an array index, `arr[np.array(seq)]`, which will result either in an error or a different result.\n",
      "  return np.add.reduce(sorted[indexer] * weights, axis=axis) / sumval\n"
     ]
    },
    {
     "data": {
      "image/png": "[encoded data removed]",
      "text/plain": [
       "<Figure size 842.4x595.44 with 1 Axes>"
      ]
     },
     "metadata": {},
     "output_type": "display_data"
    }
   ],
   "source": [
    "# Checking for outliers in age\n",
    "\n",
    "sns.set_style('ticks')\n",
    "fig, ax = plt.subplots()\n",
    "fig.set_size_inches(11.7, 8.27)\n",
    "sns.distplot(users.age.dropna(), color='#16A085')\n",
    "plt.xlabel('PDF of Age')\n",
    "sns.despine()"
   ]
  },
  {
   "cell_type": "markdown",
   "metadata": {},
   "source": [
    "From the graph we can see that the age of the user lies in the range from 0 to 2000 which is not possible and not acceptable.\n",
    "So to make the age column realistic we are removing the outliers and cutting the age range between 15-90."
   ]
  },
  {
   "cell_type": "code",
   "execution_count": 74,
   "metadata": {},
   "outputs": [
    {
     "data": {
      "text/plain": [
       "<matplotlib.axes._subplots.AxesSubplot at 0x2d0513256a0>"
      ]
     },
     "execution_count": 74,
     "metadata": {},
     "output_type": "execute_result"
    },
    {
     "data": {
      "image/png": "[encoded data removed]",
      "text/plain": [
       "<Figure size 432x288 with 2 Axes>"
      ]
     },
     "metadata": {},
     "output_type": "display_data"
    }
   ],
   "source": [
    "import seaborn as sns\n",
    "corr = users.corr()\n",
    "sns.heatmap(corr, \n",
    "            xticklabels=corr.columns.values,\n",
    "            yticklabels=corr.columns.values)"
   ]
  },
  {
   "cell_type": "code",
   "execution_count": 97,
   "metadata": {},
   "outputs": [],
   "source": [
    "# Categorizing the age between 15-90\n",
    "\n",
    "users.loc[users.age > 90, 'age'] = np.nan\n",
    "users.loc[users.age < 15, 'age'] = np.nan"
   ]
  },
  {
   "cell_type": "code",
   "execution_count": 102,
   "metadata": {},
   "outputs": [],
   "source": [
    "users['nans'] = np.sum([\n",
    "    (users['age'] == -1),\n",
    "    (users['gender'] == '-unknown-'),\n",
    "    (users['language'] == '-unknown-'),\n",
    "    (users['first_affiliate_tracked'] == 'untracked'),\n",
    "    (users['first_browser'] == '-unknown-')\n",
    "], axis=0)"
   ]
  },
  {
   "cell_type": "code",
   "execution_count": 103,
   "metadata": {},
   "outputs": [],
   "source": [
    "users['date_account_created'] = pd.to_datetime(users['date_account_created'], errors='ignore')\n",
    "users['date_first_active'] = pd.to_datetime(users['timestamp_first_active'],format='%Y-%m-%d')"
   ]
  },
  {
   "cell_type": "code",
   "execution_count": 104,
   "metadata": {},
   "outputs": [],
   "source": [
    "date_account_created = pd.DatetimeIndex(users['date_account_created'])\n",
    "date_first_active = pd.DatetimeIndex(users['date_first_active'])"
   ]
  },
  {
   "cell_type": "code",
   "execution_count": 105,
   "metadata": {},
   "outputs": [],
   "source": [
    "users['day_account_created'] = date_account_created.day\n",
    "users['weekday_account_created'] = date_account_created.weekday\n",
    "users['week_account_created'] = date_account_created.week\n",
    "users['month_account_created'] = date_account_created.month\n",
    "users['year_account_created'] = date_account_created.year\n",
    "users['day_first_active'] = date_first_active.day\n",
    "users['weekday_first_active'] = date_first_active.weekday\n",
    "users['week_first_active'] = date_first_active.week\n",
    "users['month_first_active'] = date_first_active.month\n",
    "users['year_first_active'] = date_first_active.year"
   ]
  },
  {
   "cell_type": "code",
   "execution_count": 100,
   "metadata": {
    "scrolled": true
   },
   "outputs": [
    {
     "data": {
      "image/png": "[encoded data removed]",
      "text/plain": [
       "<Figure size 842.4x595.44 with 1 Axes>"
      ]
     },
     "metadata": {},
     "output_type": "display_data"
    }
   ],
   "source": [
    "sns.set_style('ticks')\n",
    "fig, ax = plt.subplots()\n",
    "fig.set_size_inches(11.7, 8.27)\n",
    "users['age']=users['age'].apply(lambda x : 36 if x>100 else x)\n",
    "sns.distplot(users.age.dropna(), color='#16A085')\n",
    "plt.xlabel('Age')\n",
    "sns.despine()"
   ]
  },
  {
   "cell_type": "markdown",
   "metadata": {},
   "source": [
    "From the graph we can see that we have removed the outliers and now the age lies between 15-90."
   ]
  },
  {
   "cell_type": "code",
   "execution_count": 24,
   "metadata": {},
   "outputs": [
    {
     "data": {
      "image/png": "[encoded data removed]",
      "text/plain": [
       "<Figure size 1080x720 with 2 Axes>"
      ]
     },
     "metadata": {},
     "output_type": "display_data"
    }
   ],
   "source": [
    "# Plot\n",
    "fig, (axis1, axis2) = plt.subplots(2,1,figsize=(15,10))\n",
    "\n",
    "# frequency for age values(in case there was a booking)\n",
    "train_users['age'][train_users['country_destination'] != 'NDF'].hist(ax=axis1)\n",
    "\n",
    "# cut age values into ranges \n",
    "train_users['age_range'] = pd.cut(train_users[\"age\"], [0, 20, 40, 60, 80, 100])\n",
    "\n",
    "# frequency of country_destination for every age range\n",
    "sns.countplot(x=\"age_range\",hue=\"country_destination\", data=train_users[train_users['country_destination'] != 'NDF'], palette=\"husl\", ax=axis2)\n",
    "\n",
    "# drop age_range\n",
    "train_users.drop(['age_range'], axis=1, inplace=True)\n",
    "\n",
    "# drop columns\n",
    "train_users.drop(['age'], axis=1,inplace=True)\n",
    "test_users.drop(['age'], axis=1,inplace=True)"
   ]
  },
  {
   "cell_type": "code",
   "execution_count": 101,
   "metadata": {},
   "outputs": [
    {
     "data": {
      "image/png": "[encoded data removed]",
      "text/plain": [
       "<Figure size 432x288 with 1 Axes>"
      ]
     },
     "metadata": {},
     "output_type": "display_data"
    }
   ],
   "source": [
    "age = 60\n",
    "\n",
    "width = 0.3\n",
    "younger = sum(users.loc[users['age'] < age, 'country_destination'].value_counts())\n",
    "older = sum(users.loc[users['age'] > age, 'country_destination'].value_counts())\n",
    "\n",
    "younger_destinations = users.loc[users['age'] < age, 'country_destination'].value_counts() / younger * 100\n",
    "older_destinations = users.loc[users['age'] > age, 'country_destination'].value_counts() / older * 100\n",
    "\n",
    "younger_destinations.plot(kind='bar', width=width, color='#63EA55', position=0, label='Youngers', rot=0)\n",
    "older_destinations.plot(kind='bar', width=width, color='#4DD3C9', position=1, label='Olders', rot=0)\n",
    "\n",
    "plt.legend()\n",
    "plt.xlabel('Destination Country')\n",
    "plt.ylabel('Percentage')\n",
    "\n",
    "sns.despine()\n",
    "plt.show()"
   ]
  },
  {
   "cell_type": "markdown",
   "metadata": {},
   "source": [
    "We can see that the young people tends to stay in the US, and the older people choose to travel outside the country. \n",
    "The first thing we thought when reading the problem was the importance of the native lenguage when choosing the destination country. So let's see how manny users use english as main language:"
   ]
  },
  {
   "cell_type": "code",
   "execution_count": 102,
   "metadata": {},
   "outputs": [
    {
     "name": "stdout",
     "output_type": "stream",
     "text": [
      "96.3675888323952\n"
     ]
    }
   ],
   "source": [
    "print((sum(users.language == 'en') / users.shape[0])*100)"
   ]
  },
  {
   "cell_type": "markdown",
   "metadata": {},
   "source": [
    "With the 96% of users using English as their language, it is understandable that a lot of people stay in the US. "
   ]
  },
  {
   "cell_type": "code",
   "execution_count": 103,
   "metadata": {},
   "outputs": [
    {
     "data": {
      "image/png": "[encoded data removed]",
      "text/plain": [
       "<Figure size 842.4x595.44 with 1 Axes>"
      ]
     },
     "metadata": {},
     "output_type": "display_data"
    }
   ],
   "source": [
    "sns.set_style('ticks')\n",
    "fig, ax = plt.subplots()\n",
    "fig.set_size_inches(11.7, 8.27)\n",
    "destination_percentage = users.language.value_counts() / users.shape[0] * 100\n",
    "destination_percentage.plot(kind='bar',color='#3498DB')\n",
    "plt.xlabel('Language')\n",
    "plt.ylabel('Percentage')\n",
    "sns.despine()"
   ]
  },
  {
   "cell_type": "code",
   "execution_count": 104,
   "metadata": {},
   "outputs": [
    {
     "data": {
      "image/png": "[encoded data removed]",
      "text/plain": [
       "<Figure size 842.4x595.44 with 1 Axes>"
      ]
     },
     "metadata": {},
     "output_type": "display_data"
    }
   ],
   "source": [
    "#Plotting the destination country\n",
    "\n",
    "sns.set_style('ticks')\n",
    "fig, ax = plt.subplots()\n",
    "fig.set_size_inches(11.7, 8.27)\n",
    "destination_percentage = train_users.country_destination.value_counts() / train_users.shape[0] * 100\n",
    "destination_percentage.plot(kind='bar',color='#3498DB')\n",
    "plt.xlabel('Destination Country')\n",
    "plt.ylabel('Percentage')\n",
    "sns.despine()"
   ]
  },
  {
   "cell_type": "markdown",
   "metadata": {},
   "source": [
    "Observations :\n",
    "Almost, 57% of users in Train data set did not travel anywhere.\n",
    "Also, 28 % of users travelled in U.S.A"
   ]
  },
  {
   "cell_type": "code",
   "execution_count": 105,
   "metadata": {},
   "outputs": [
    {
     "data": {
      "image/png": "[encoded data removed]",
      "text/plain": [
       "<Figure size 842.4x595.44 with 1 Axes>"
      ]
     },
     "metadata": {},
     "output_type": "display_data"
    }
   ],
   "source": [
    "# Plotting Gender Data\n",
    "\n",
    "sns.set_style('ticks')\n",
    "fig, ax = plt.subplots()\n",
    "fig.set_size_inches(11.7, 8.27)\n",
    "gender_percentage = users.gender.value_counts() / users.shape[0] * 100\n",
    "gender_percentage.plot(kind='bar',color='#D35400')\n",
    "plt.xlabel('Gender of users')\n",
    "plt.ylabel('Percentage')\n",
    "sns.despine()"
   ]
  },
  {
   "cell_type": "markdown",
   "metadata": {},
   "source": [
    "From the above graph we can see there is no major difference between the booking percentage of the two genders."
   ]
  },
  {
   "cell_type": "code",
   "execution_count": 106,
   "metadata": {},
   "outputs": [
    {
     "data": {
      "image/png": "[encoded data removed]",
      "text/plain": [
       "<Figure size 432x288 with 1 Axes>"
      ]
     },
     "metadata": {},
     "output_type": "display_data"
    }
   ],
   "source": [
    "women = sum(users['gender'] == 'FEMALE')\n",
    "men = sum(users['gender'] == 'MALE')\n",
    "\n",
    "female_destinations = users.loc[users['gender'] == 'FEMALE', 'country_destination'].value_counts() / women * 100\n",
    "male_destinations = users.loc[users['gender'] == 'MALE', 'country_destination'].value_counts() / men * 100\n",
    "\n",
    "# Bar width\n",
    "width = 0.3\n",
    "\n",
    "male_destinations.plot(kind='bar', width=width, color='#4DD3C9', position=0, label='Male', rot=0)\n",
    "female_destinations.plot(kind='bar', width=width, color='#FFA35D', position=1, label='Female', rot=0)\n",
    "\n",
    "plt.legend()\n",
    "plt.xlabel('Destination Country')\n",
    "plt.ylabel('Percentage')\n",
    "\n",
    "sns.despine()\n",
    "plt.show()"
   ]
  },
  {
   "cell_type": "markdown",
   "metadata": {},
   "source": [
    "There are no big differences between the 2 main genders, so this plot it's not really ussefull except to know the relative destination frecuency of the countries."
   ]
  },
  {
   "cell_type": "code",
   "execution_count": 107,
   "metadata": {},
   "outputs": [
    {
     "data": {
      "image/png": "[encoded data removed]",
      "text/plain": [
       "<Figure size 842.4x595.44 with 1 Axes>"
      ]
     },
     "metadata": {},
     "output_type": "display_data"
    }
   ],
   "source": [
    "sns.set_style('ticks')\n",
    "fig, ax = plt.subplots()\n",
    "fig.set_size_inches(11.7, 8.27)\n",
    "device_percentage = train_users.first_device_type.value_counts() / train_users.shape[0] * 100\n",
    "device_percentage.plot(kind='bar',color='#196F3D')\n",
    "plt.xlabel('Device used by user')\n",
    "plt.ylabel('Percentage')\n",
    "sns.despine()"
   ]
  },
  {
   "cell_type": "markdown",
   "metadata": {},
   "source": [
    "It seems that the most popular device that users use to first access Airbnb’s website is Mac desktop (40%) followed by Windows desktop (35%)."
   ]
  },
  {
   "cell_type": "markdown",
   "metadata": {},
   "source": [
    "Almost all the users language preference is English. This is reasonable as our population for the problem comes from US."
   ]
  },
  {
   "cell_type": "code",
   "execution_count": 108,
   "metadata": {},
   "outputs": [
    {
     "data": {
      "image/png": "[encoded data removed]",
      "text/plain": [
       "<Figure size 842.4x595.44 with 1 Axes>"
      ]
     },
     "metadata": {},
     "output_type": "display_data"
    }
   ],
   "source": [
    "sns.set_style('ticks')\n",
    "fig, ax = plt.subplots()\n",
    "fig.set_size_inches(11.7, 8.27)\n",
    "affiliate_provider_percentage = users.affiliate_provider.value_counts() / users.shape[0] * 100\n",
    "affiliate_provider_percentage.plot(kind='bar',color='#CB4335')\n",
    "plt.xlabel('Percentage of users based on affiliate providers ')\n",
    "plt.ylabel('Percentage')\n",
    "sns.despine()"
   ]
  },
  {
   "cell_type": "markdown",
   "metadata": {},
   "source": [
    "We see that nearly 70% of the users came to the Airbnb’s website directly without any affiliate involvement"
   ]
  },
  {
   "cell_type": "code",
   "execution_count": 109,
   "metadata": {},
   "outputs": [],
   "source": [
    "weekdays = []\n",
    "for date in users.date_account_created:\n",
    "    weekdays.append(date.weekday())\n",
    "weekdays = pd.Series(weekdays)"
   ]
  },
  {
   "cell_type": "code",
   "execution_count": 110,
   "metadata": {},
   "outputs": [
    {
     "data": {
      "image/png": "[encoded data removed]",
      "text/plain": [
       "<Figure size 432x288 with 1 Axes>"
      ]
     },
     "metadata": {},
     "output_type": "display_data"
    }
   ],
   "source": [
    "sns.barplot(x = weekdays.value_counts().index, y=weekdays.value_counts().values, order=range(0,7))\n",
    "plt.xlabel('Week Day')\n",
    "sns.despine()"
   ]
  },
  {
   "cell_type": "markdown",
   "metadata": {},
   "source": [
    "We can also see that Monday has the maximum number of booking."
   ]
  },
  {
   "cell_type": "code",
   "execution_count": 107,
   "metadata": {},
   "outputs": [],
   "source": [
    "sessions.rename(columns = {'user_id': 'id'}, inplace=True)"
   ]
  },
  {
   "cell_type": "code",
   "execution_count": 108,
   "metadata": {},
   "outputs": [
    {
     "name": "stderr",
     "output_type": "stream",
     "text": [
      "C:\\Users\\shahs\\aa\\lib\\site-packages\\ipykernel_launcher.py:6: FutureWarning: Sorting because non-concatenation axis is not aligned. A future version\n",
      "of pandas will change to not sort by default.\n",
      "\n",
      "To accept the future behavior, pass 'sort=False'.\n",
      "\n",
      "To retain the current behavior and silence the warning, pass 'sort=True'.\n",
      "\n",
      "  \n"
     ]
    }
   ],
   "source": [
    "action_count = sessions.groupby(['id', 'action'])['secs_elapsed'].agg(len).unstack()\n",
    "action_type_count = sessions.groupby(['id', 'action_type'])['secs_elapsed'].agg(len).unstack()\n",
    "action_detail_count = sessions.groupby(['id', 'action_detail'])['secs_elapsed'].agg(len).unstack()\n",
    "device_type_sum = sessions.groupby(['id', 'device_type'])['secs_elapsed'].agg(sum).unstack()\n",
    "\n",
    "sessions_data = pd.concat([action_count, action_type_count, action_detail_count, device_type_sum],axis=1)\n",
    "sessions_data.columns = sessions_data.columns.map(lambda x: str(x) + '_count')\n",
    "\n",
    "# Most used device\n",
    "sessions_data['most_used_device'] = sessions.groupby('id')['device_type'].max()\n",
    "\n",
    "users = users.join(sessions_data, on='id')"
   ]
  },
  {
   "cell_type": "code",
   "execution_count": 109,
   "metadata": {},
   "outputs": [
    {
     "name": "stderr",
     "output_type": "stream",
     "text": [
      "C:\\Users\\shahs\\aa\\lib\\site-packages\\ipykernel_launcher.py:15: FutureWarning: using a dict on a Series for aggregation\n",
      "is deprecated and will be removed in a future version\n",
      "  from ipykernel import kernelapp as app\n"
     ]
    }
   ],
   "source": [
    "secs_elapsed = sessions.groupby('id')['secs_elapsed']\n",
    "\n",
    "secs_elapsed = secs_elapsed.agg(\n",
    "    {\n",
    "        'secs_elapsed_sum': np.sum,\n",
    "        'secs_elapsed_mean': np.mean,\n",
    "        'secs_elapsed_min': np.min,\n",
    "        'secs_elapsed_max': np.max,\n",
    "        'secs_elapsed_median': np.median,\n",
    "        'secs_elapsed_std': np.std,\n",
    "        'secs_elapsed_var': np.var,\n",
    "        'day_pauses': lambda x: (x > 86400).sum(),\n",
    "        'long_pauses': lambda x: (x > 300000).sum(),\n",
    "        'short_pauses': lambda x: (x < 3600).sum(),\n",
    "        'session_length' : np.count_nonzero\n",
    "    }\n",
    ")\n",
    "\n",
    "users = users.join(secs_elapsed, on='id')"
   ]
  },
  {
   "cell_type": "code",
   "execution_count": 110,
   "metadata": {},
   "outputs": [],
   "source": [
    "categorical_features = [\n",
    "    'gender', 'signup_method', 'signup_flow', 'language',\n",
    "    'affiliate_channel', 'affiliate_provider', 'first_affiliate_tracked',\n",
    "    'signup_app', 'first_device_type', 'first_browser', 'most_used_device'\n",
    "]\n",
    "users = pd.get_dummies(users, columns=categorical_features)"
   ]
  },
  {
   "cell_type": "code",
   "execution_count": 111,
   "metadata": {},
   "outputs": [],
   "source": [
    "users.set_index('id', inplace=True)\n",
    "users.loc[train_users['id']].to_csv('C:/Users/shahs/Desktop/Rutgers/Sem 2/STATS & ML/Project/train_users_2.csv')\n"
   ]
  },
  {
   "cell_type": "markdown",
   "metadata": {},
   "source": [
    "The local minimums where the Sundays(where the people use less the Internet), and it's usually to hit a maximum at Monday!"
   ]
  },
  {
   "cell_type": "markdown",
   "metadata": {},
   "source": [
    "## Models Used\n",
    "1) Random Forest\n",
    "\n",
    "2) Naive Bayes (Bernoulli, Multinomial Naive Bayes, Gaussian Naive Bayes)\n",
    "\n",
    "3) K Nearest Neighbor\n",
    "\n",
    "4) Decision Tree\n",
    "\n",
    "5) Logistic Regression"
   ]
  },
  {
   "cell_type": "code",
   "execution_count": 315,
   "metadata": {},
   "outputs": [
    {
     "name": "stdout",
     "output_type": "stream",
     "text": [
      "Requirement already satisfied: xgboost in c:\\users\\shahs\\aa\\lib\\site-packages (0.82)\n",
      "Requirement already satisfied: scipy in c:\\users\\shahs\\aa\\lib\\site-packages (from xgboost) (1.1.0)\n",
      "Requirement already satisfied: numpy in c:\\users\\shahs\\aa\\lib\\site-packages (from xgboost) (1.15.4)\n"
     ]
    }
   ],
   "source": [
    "import sys\n",
    "!{sys.executable} -m pip install xgboost"
   ]
  },
  {
   "cell_type": "code",
   "execution_count": 112,
   "metadata": {},
   "outputs": [],
   "source": [
    "import numpy as np # linear algebra\n",
    "import pandas as pd # data processing, CSV file I/O (e.g. pd.read_csv)\n",
    "from sklearn.preprocessing import LabelEncoder\n",
    "from sklearn.ensemble import RandomForestClassifier\n",
    "from sklearn.model_selection import cross_val_score\n",
    "from sklearn.ensemble import GradientBoostingClassifier\n",
    "import xgboost"
   ]
  },
  {
   "cell_type": "code",
   "execution_count": 113,
   "metadata": {},
   "outputs": [],
   "source": [
    "train_users['Age_Over40'] = (train_users.age >39).map({True:1,False:0})\n",
    "train_users['Age_31-39'] = ((train_users.age<40) & (train_users.age>30)).map({True:1,False:0})\n",
    "train_users['Age_Under31'] = (train_users.age <31).map({True:1,False:0})\n",
    "train_users['Age_unknown'] = (train_users.age.isnull()).map({True:1,False:0})"
   ]
  },
  {
   "cell_type": "code",
   "execution_count": 114,
   "metadata": {},
   "outputs": [],
   "source": [
    "#reorder columns to have all features to encode side by side\n",
    "cols = train_users.columns.tolist()\n",
    "cols.insert(0,cols.pop(5))\n",
    "cols.insert(0,cols.pop(15))\n",
    "train_users = train_users[cols]\n",
    "\n",
    "#one hot encoding to prepare for modelling\n",
    "encoding = pd.get_dummies(train_users.iloc[:,6:16],columns =train_users.iloc[:,6:16].columns, prefix=list(train_users.columns[6:16]))\n",
    "onehot = pd.concat([train_users.iloc[:,:6],encoding,train_users.iloc[:,16:20]],axis=1)"
   ]
  },
  {
   "cell_type": "code",
   "execution_count": 142,
   "metadata": {},
   "outputs": [],
   "source": [
    "### Data Preparation for Classification ### \n",
    "# Prepare Train/Test data for classification\n",
    "df_train = users.head(train_users.shape[0])\n",
    "df_test = users.tail(test_users.shape[0])\n",
    "X = df_train.drop([\"country_destination\"],axis=1)\n",
    "y = df_train[\"country_destination\"]\n",
    "\n",
    "# modify country_destination to numerical values\n",
    "country_num_dic = {'NDF': 0, 'US': 1, 'other': 2, 'FR': 3, 'IT': 4, 'GB': 5, 'ES': 6, \n",
    "                   'CA': 7, 'DE': 8, 'NL': 9, 'AU': 10, 'PT': 11}\n",
    "num_country_dic = {y:x for x,y in country_num_dic.items()}\n",
    "y = y.map(country_num_dic)\n",
    "\n",
    "# 80/20 train/test split\n",
    "X_train, X_test, y_train, y_test = train_test_split(X, y, test_size=0.2)\n",
    "\n",
    "# Define score function for classifiers\n",
    "def score(true,pred):\n",
    "  return (precision_score(true,pred, average='weighted'), accuracy_score(true,pred))\n",
    "\n",
    "# Define print_score function to report classifiers' performance\n",
    "def print_score(s):\n",
    "  print(\"\"\"\n",
    "Precision:    {:0.3}\n",
    "Accuracy:     {:0.3}\n",
    "\"\"\".format(*s))\n",
    "\n",
    "labels = [0,1,2,3,4,5,6,7,8,9,10,11]\n",
    "targets=['NDF', 'US', 'other', 'FR', 'IT', 'GB', 'ES', 'CA', 'DE', 'NL', 'AU', 'PT']\n"
   ]
  },
  {
   "cell_type": "code",
   "execution_count": 143,
   "metadata": {},
   "outputs": [],
   "source": [
    "import numpy as np # linear algebra\n",
    "import pandas as pd # data processing, CSV file I/O (e.g. pd.read_csv)\n",
    "import numpy as np # linear algebra\n",
    "import pandas as pd # data processing, CSV file I/O (e.g. pd.read_csv)\n",
    "from sklearn.preprocessing import LabelEncoder\n",
    "from sklearn.ensemble import RandomForestClassifier\n",
    "from sklearn.ensemble import GradientBoostingClassifier"
   ]
  },
  {
   "cell_type": "code",
   "execution_count": 144,
   "metadata": {},
   "outputs": [],
   "source": [
    "from sklearn.naive_bayes import MultinomialNB\n",
    "from sklearn.naive_bayes import BernoulliNB\n",
    "from sklearn.naive_bayes import GaussianNB\n",
    "\n",
    "#train test split dataset to measure performance. Original test_users dataset provided by airbnb does not come with labels\n",
    "# so we need to create our own test set\n",
    "x_train,x_test,y_train,y_test = train_test_split(onehot,onehot['country_destination'],test_size=0.25,random_state=1)"
   ]
  },
  {
   "cell_type": "markdown",
   "metadata": {},
   "source": [
    "## Random forest classification\n"
   ]
  },
  {
   "cell_type": "code",
   "execution_count": 145,
   "metadata": {},
   "outputs": [],
   "source": [
    "\n",
    "from sklearn.ensemble import RandomForestClassifier\n",
    "clf = RandomForestClassifier()"
   ]
  },
  {
   "cell_type": "code",
   "execution_count": 146,
   "metadata": {},
   "outputs": [
    {
     "name": "stderr",
     "output_type": "stream",
     "text": [
      "C:\\Users\\shahs\\aa\\lib\\site-packages\\sklearn\\ensemble\\forest.py:246: FutureWarning: The default value of n_estimators will change from 10 in version 0.20 to 100 in 0.22.\n",
      "  \"10 in version 0.20 to 100 in 0.22.\", FutureWarning)\n"
     ]
    },
    {
     "data": {
      "text/plain": [
       "RandomForestClassifier(bootstrap=True, class_weight=None, criterion='gini',\n",
       "            max_depth=None, max_features='auto', max_leaf_nodes=None,\n",
       "            min_impurity_decrease=0.0, min_impurity_split=None,\n",
       "            min_samples_leaf=1, min_samples_split=2,\n",
       "            min_weight_fraction_leaf=0.0, n_estimators=10, n_jobs=None,\n",
       "            oob_score=False, random_state=None, verbose=0,\n",
       "            warm_start=False)"
      ]
     },
     "execution_count": 146,
     "metadata": {},
     "output_type": "execute_result"
    }
   ],
   "source": [
    "#fit RF classifier \n",
    "\n",
    "clf.fit(x_train.iloc[:,6:156],y_train)"
   ]
  },
  {
   "cell_type": "code",
   "execution_count": 147,
   "metadata": {},
   "outputs": [],
   "source": [
    "#predict and store predictions in a series \n",
    "\n",
    "preds = clf.predict(x_test.iloc[:,6:156])"
   ]
  },
  {
   "cell_type": "code",
   "execution_count": 148,
   "metadata": {},
   "outputs": [
    {
     "name": "stderr",
     "output_type": "stream",
     "text": [
      "C:\\Users\\shahs\\aa\\lib\\site-packages\\ipykernel_launcher.py:3: SettingWithCopyWarning: \n",
      "A value is trying to be set on a copy of a slice from a DataFrame.\n",
      "Try using .loc[row_indexer,col_indexer] = value instead\n",
      "\n",
      "See the caveats in the documentation: http://pandas.pydata.org/pandas-docs/stable/indexing.html#indexing-view-versus-copy\n",
      "  This is separate from the ipykernel package so we can avoid doing imports until\n"
     ]
    }
   ],
   "source": [
    "#add the series to our dataframe\n",
    "\n",
    "x_test['predicted_country'] = preds"
   ]
  },
  {
   "cell_type": "code",
   "execution_count": 149,
   "metadata": {},
   "outputs": [],
   "source": [
    "#import packages used for model evaluation\n",
    "\n",
    "from sklearn.metrics import accuracy_score\n",
    "from sklearn.metrics import precision_score,f1_score,recall_score\n",
    "def score(true,pred):\n",
    "    return(precision_score(true,pred,average='weighted'),\n",
    "          recall_score(true,pred,average='weighted'),\n",
    "          f1_score(true,pred,average='weighted'))"
   ]
  },
  {
   "cell_type": "code",
   "execution_count": 150,
   "metadata": {},
   "outputs": [
    {
     "data": {
      "text/plain": [
       "0.601427955699642"
      ]
     },
     "execution_count": 150,
     "metadata": {},
     "output_type": "execute_result"
    }
   ],
   "source": [
    "#get overall accuracy score for the RF model\n",
    "\n",
    "accuracy_score(x_test['country_destination'],x_test['predicted_country'])"
   ]
  },
  {
   "cell_type": "code",
   "execution_count": 328,
   "metadata": {},
   "outputs": [
    {
     "data": {
      "text/html": [
       "<div>\n",
       "<style scoped>\n",
       "    .dataframe tbody tr th:only-of-type {\n",
       "        vertical-align: middle;\n",
       "    }\n",
       "\n",
       "    .dataframe tbody tr th {\n",
       "        vertical-align: top;\n",
       "    }\n",
       "\n",
       "    .dataframe thead th {\n",
       "        text-align: right;\n",
       "    }\n",
       "</style>\n",
       "<table border=\"1\" class=\"dataframe\">\n",
       "  <thead>\n",
       "    <tr style=\"text-align: right;\">\n",
       "      <th></th>\n",
       "      <th>feature_importance</th>\n",
       "    </tr>\n",
       "  </thead>\n",
       "  <tbody>\n",
       "    <tr>\n",
       "      <th>Age_31-39</th>\n",
       "      <td>0.094607</td>\n",
       "    </tr>\n",
       "    <tr>\n",
       "      <th>Age_Under31</th>\n",
       "      <td>0.088331</td>\n",
       "    </tr>\n",
       "    <tr>\n",
       "      <th>Age_Over40</th>\n",
       "      <td>0.076009</td>\n",
       "    </tr>\n",
       "    <tr>\n",
       "      <th>gender_-unknown-</th>\n",
       "      <td>0.062144</td>\n",
       "    </tr>\n",
       "    <tr>\n",
       "      <th>signup_method_facebook</th>\n",
       "      <td>0.039427</td>\n",
       "    </tr>\n",
       "    <tr>\n",
       "      <th>signup_method_basic</th>\n",
       "      <td>0.038780</td>\n",
       "    </tr>\n",
       "    <tr>\n",
       "      <th>gender_MALE</th>\n",
       "      <td>0.035651</td>\n",
       "    </tr>\n",
       "    <tr>\n",
       "      <th>gender_FEMALE</th>\n",
       "      <td>0.032819</td>\n",
       "    </tr>\n",
       "    <tr>\n",
       "      <th>first_affiliate_tracked_untracked</th>\n",
       "      <td>0.028667</td>\n",
       "    </tr>\n",
       "    <tr>\n",
       "      <th>first_affiliate_tracked_linked</th>\n",
       "      <td>0.022591</td>\n",
       "    </tr>\n",
       "  </tbody>\n",
       "</table>\n",
       "</div>"
      ],
      "text/plain": [
       "                                   feature_importance\n",
       "Age_31-39                                    0.094607\n",
       "Age_Under31                                  0.088331\n",
       "Age_Over40                                   0.076009\n",
       "gender_-unknown-                             0.062144\n",
       "signup_method_facebook                       0.039427\n",
       "signup_method_basic                          0.038780\n",
       "gender_MALE                                  0.035651\n",
       "gender_FEMALE                                0.032819\n",
       "first_affiliate_tracked_untracked            0.028667\n",
       "first_affiliate_tracked_linked               0.022591"
      ]
     },
     "execution_count": 328,
     "metadata": {},
     "output_type": "execute_result"
    }
   ],
   "source": [
    "#FEATURE SELECTION - check most important features to the random forest algorithm\n",
    "\n",
    "featureImportance = pd.DataFrame(clf.feature_importances_,onehot.columns[6:156],columns=['feature_importance']).sort_values([\"feature_importance\"],ascending=False)\n",
    "featureImportance.head(10)"
   ]
  },
  {
   "cell_type": "code",
   "execution_count": 329,
   "metadata": {},
   "outputs": [],
   "source": [
    "#split the data again using only the top 27 features\n",
    "\n",
    "x_train,x_test,y_train,y_test = train_test_split(onehot.loc[:,list(featureImportance[:27].index)],onehot['country_destination'],test_size=0.25,random_state=1)"
   ]
  },
  {
   "cell_type": "code",
   "execution_count": 330,
   "metadata": {},
   "outputs": [
    {
     "name": "stderr",
     "output_type": "stream",
     "text": [
      "C:\\Users\\shahs\\aa\\lib\\site-packages\\sklearn\\ensemble\\forest.py:246: FutureWarning: The default value of n_estimators will change from 10 in version 0.20 to 100 in 0.22.\n",
      "  \"10 in version 0.20 to 100 in 0.22.\", FutureWarning)\n"
     ]
    }
   ],
   "source": [
    "#Generate Predictions for RF classifier with 27 features\n",
    "\n",
    "clf = RandomForestClassifier()\n",
    "clf.fit(x_train,y_train)\n",
    "preds = clf.predict(x_test)"
   ]
  },
  {
   "cell_type": "code",
   "execution_count": 331,
   "metadata": {},
   "outputs": [
    {
     "data": {
      "text/plain": [
       "0.6259018421003317"
      ]
     },
     "execution_count": 331,
     "metadata": {},
     "output_type": "execute_result"
    }
   ],
   "source": [
    "#New accuracy score!\n",
    "\n",
    "RF = accuracy_score(y_test,preds)\n",
    "RF"
   ]
  },
  {
   "cell_type": "markdown",
   "metadata": {},
   "source": [
    "## Naive Bayes\n"
   ]
  },
  {
   "cell_type": "code",
   "execution_count": 332,
   "metadata": {},
   "outputs": [],
   "source": [
    "#import NB package\n",
    "\n",
    "from sklearn.naive_bayes import BernoulliNB"
   ]
  },
  {
   "cell_type": "code",
   "execution_count": 333,
   "metadata": {},
   "outputs": [],
   "source": [
    "#Generate predictions using Naive Bayes\n",
    "\n",
    "clf = BernoulliNB()\n",
    "clf.fit(x_train,y_train)\n",
    "preds = clf.predict(x_test)"
   ]
  },
  {
   "cell_type": "code",
   "execution_count": 334,
   "metadata": {},
   "outputs": [
    {
     "data": {
      "text/plain": [
       "0.5760733092217454"
      ]
     },
     "execution_count": 334,
     "metadata": {},
     "output_type": "execute_result"
    }
   ],
   "source": [
    "#NB accuracy score - 57.6%, lower than baseline\n",
    "\n",
    "BNB = accuracy_score(y_test,preds)\n",
    "BNB"
   ]
  },
  {
   "cell_type": "markdown",
   "metadata": {},
   "source": [
    "## Gaussian Naive Bayes Classifier\n"
   ]
  },
  {
   "cell_type": "code",
   "execution_count": 335,
   "metadata": {},
   "outputs": [],
   "source": [
    "from sklearn.naive_bayes import GaussianNB\n",
    "\n",
    "clf = GaussianNB()\n",
    "clf.fit(x_train, y_train)\n",
    "preds = clf.predict(x_test)"
   ]
  },
  {
   "cell_type": "code",
   "execution_count": 336,
   "metadata": {},
   "outputs": [
    {
     "data": {
      "text/plain": [
       "0.5515244645166126"
      ]
     },
     "execution_count": 336,
     "metadata": {},
     "output_type": "execute_result"
    }
   ],
   "source": [
    "GNB = accuracy_score(y_test,preds)\n",
    "GNB"
   ]
  },
  {
   "cell_type": "markdown",
   "metadata": {},
   "source": [
    "## Multinomial Naive Bayes"
   ]
  },
  {
   "cell_type": "code",
   "execution_count": 337,
   "metadata": {},
   "outputs": [
    {
     "data": {
      "text/plain": [
       "0.5954312913441898"
      ]
     },
     "execution_count": 337,
     "metadata": {},
     "output_type": "execute_result"
    }
   ],
   "source": [
    "from sklearn.naive_bayes import MultinomialNB\n",
    "\n",
    "clf = MultinomialNB()\n",
    "clf.fit(x_train, y_train)\n",
    "preds = clf.predict(x_test)\n",
    "\n",
    "MNB = accuracy_score(y_test, preds)\n",
    "MNB"
   ]
  },
  {
   "cell_type": "code",
   "execution_count": 338,
   "metadata": {},
   "outputs": [
    {
     "name": "stdout",
     "output_type": "stream",
     "text": [
      "\n",
      "\n",
      "Naive Bayes Performance\n"
     ]
    },
    {
     "name": "stderr",
     "output_type": "stream",
     "text": [
      "C:\\Users\\shahs\\aa\\lib\\site-packages\\sklearn\\metrics\\classification.py:1143: UndefinedMetricWarning: Precision is ill-defined and being set to 0.0 in labels with no predicted samples.\n",
      "  'precision', 'predicted', average, warn_for)\n"
     ]
    },
    {
     "name": "stdout",
     "output_type": "stream",
     "text": [
      "\n",
      "Precision:    0.503\n",
      "Accuracy:     0.595\n",
      "\n",
      "[[    0     0     0     0     0     0     0    87     0     0    42     0]\n",
      " [    0     0     0     0     0     0     0   235     0     0   127     0]\n",
      " [    0     0     0     0     0     0     0   178     0     0    88     0]\n",
      " [    0     0     0     0     0     0     0   377     0     0   193     0]\n",
      " [    0     0     0     0     0     0     0   851     0     0   359     0]\n",
      " [    0     0     0     0     0     0     0   404     0     0   194     0]\n",
      " [    0     0     0     0     0     0     0   514     0     0   232     0]\n",
      " [    0     0     0     0     0     0     0 26557     0     0  4759     0]\n",
      " [    0     0     0     0     0     0     0   117     0     0    61     0]\n",
      " [    0     0     0     0     0     0     0    43     0     0    12     0]\n",
      " [    0     0     0     0     0     0     0 10257     0     0  5217     0]\n",
      " [    0     0     0     0     0     0     0  1688     0     0   771     0]]\n"
     ]
    },
    {
     "name": "stderr",
     "output_type": "stream",
     "text": [
      "C:\\Users\\shahs\\aa\\lib\\site-packages\\sklearn\\metrics\\classification.py:1143: UndefinedMetricWarning: F-score is ill-defined and being set to 0.0 in labels with no predicted samples.\n",
      "  'precision', 'predicted', average, warn_for)\n"
     ]
    }
   ],
   "source": [
    "from sklearn.metrics import precision_score,classification_report, confusion_matrix\n",
    "\n",
    "print(\"\\n\\nNaive Bayes Performance\")\n",
    "#s = classification_report(y_test, nb.predict(X_test), labels, targets)\n",
    "#print(s)\n",
    "s = score(y_test, clf.predict(x_test))\n",
    "print_score(s)\n",
    "print(confusion_matrix(y_test, clf.predict(x_test)))\n"
   ]
  },
  {
   "cell_type": "markdown",
   "metadata": {},
   "source": [
    "## KNN Classifier"
   ]
  },
  {
   "cell_type": "code",
   "execution_count": 347,
   "metadata": {},
   "outputs": [
    {
     "data": {
      "text/plain": [
       "KNeighborsClassifier(algorithm='auto', leaf_size=30, metric='minkowski',\n",
       "           metric_params=None, n_jobs=None, n_neighbors=5, p=2,\n",
       "           weights='distance')"
      ]
     },
     "execution_count": 347,
     "metadata": {},
     "output_type": "execute_result"
    }
   ],
   "source": [
    "from sklearn.neighbors import KNeighborsClassifier\n",
    "from sklearn.metrics import precision_score,classification_report, confusion_matrix\n",
    "\n",
    "\n",
    "knn1 = KNeighborsClassifier(n_neighbors=1)\n",
    "knn5 = KNeighborsClassifier(n_neighbors=5)\n",
    "knn10 = KNeighborsClassifier(n_neighbors=10)\n",
    "\n",
    "knn1.fit(x_train, y_train)\n",
    "knn5.fit(x_train, y_train)\n",
    "knn10.fit(x_train, y_train)"
   ]
  },
  {
   "cell_type": "code",
   "execution_count": 348,
   "metadata": {},
   "outputs": [],
   "source": [
    "def score(true,pred):\n",
    "  return (precision_score(true,pred, average='weighted'), accuracy_score(true,pred))\n",
    "\n",
    "# Define print_score function to report classifiers' performance\n",
    "def print_score(s):\n",
    "  print(\"\"\"\n",
    "Precision:    {:0.3}\n",
    "Accuracy:     {:0.3}\n",
    "\"\"\".format(*s))\n",
    "\n",
    "labels = [0,1,2,3,4,5,6,7,8,9,10,11]\n",
    "targets=['NDF', 'US', 'other', 'FR', 'IT', 'GB', 'ES', 'CA', 'DE', 'NL', 'AU', 'PT']"
   ]
  },
  {
   "cell_type": "code",
   "execution_count": 342,
   "metadata": {},
   "outputs": [
    {
     "name": "stdout",
     "output_type": "stream",
     "text": [
      "\n",
      "\n",
      "KNN 1 Neighbor Performance\n"
     ]
    },
    {
     "name": "stderr",
     "output_type": "stream",
     "text": [
      "C:\\Users\\shahs\\aa\\lib\\site-packages\\numpy\\lib\\arraysetops.py:518: FutureWarning: elementwise comparison failed; returning scalar instead, but in the future will perform elementwise comparison\n",
      "  mask &= (ar1 != a)\n",
      "C:\\Users\\shahs\\aa\\lib\\site-packages\\sklearn\\metrics\\classification.py:1143: UndefinedMetricWarning: Precision and F-score are ill-defined and being set to 0.0 in labels with no predicted samples.\n",
      "  'precision', 'predicted', average, warn_for)\n",
      "C:\\Users\\shahs\\aa\\lib\\site-packages\\sklearn\\metrics\\classification.py:1145: UndefinedMetricWarning: Recall and F-score are ill-defined and being set to 0.0 in labels with no true samples.\n",
      "  'recall', 'true', average, warn_for)\n",
      "C:\\Users\\shahs\\aa\\lib\\site-packages\\sklearn\\metrics\\classification.py:1143: UndefinedMetricWarning: Precision and F-score are ill-defined and being set to 0.0 due to no predicted samples.\n",
      "  'precision', 'predicted', average, warn_for)\n",
      "C:\\Users\\shahs\\aa\\lib\\site-packages\\sklearn\\metrics\\classification.py:1145: UndefinedMetricWarning: Recall and F-score are ill-defined and being set to 0.0 due to no true samples.\n",
      "  'recall', 'true', average, warn_for)\n",
      "C:\\Users\\shahs\\aa\\lib\\site-packages\\sklearn\\metrics\\classification.py:1143: UndefinedMetricWarning: Precision and F-score are ill-defined and being set to 0.0 in labels with no predicted samples.\n",
      "  'precision', 'predicted', average, warn_for)\n",
      "C:\\Users\\shahs\\aa\\lib\\site-packages\\sklearn\\metrics\\classification.py:1145: UndefinedMetricWarning: Recall and F-score are ill-defined and being set to 0.0 in labels with no true samples.\n",
      "  'recall', 'true', average, warn_for)\n",
      "C:\\Users\\shahs\\aa\\lib\\site-packages\\sklearn\\metrics\\classification.py:1143: UndefinedMetricWarning: Precision and F-score are ill-defined and being set to 0.0 in labels with no predicted samples.\n",
      "  'precision', 'predicted', average, warn_for)\n",
      "C:\\Users\\shahs\\aa\\lib\\site-packages\\sklearn\\metrics\\classification.py:1145: UndefinedMetricWarning: Recall and F-score are ill-defined and being set to 0.0 in labels with no true samples.\n",
      "  'recall', 'true', average, warn_for)\n"
     ]
    },
    {
     "name": "stdout",
     "output_type": "stream",
     "text": [
      "              precision    recall  f1-score   support\n",
      "\n",
      "         NDF       0.00      0.00      0.00         0\n",
      "          US       0.00      0.00      0.00         0\n",
      "       other       0.00      0.00      0.00         0\n",
      "          FR       0.00      0.00      0.00         0\n",
      "          IT       0.00      0.00      0.00         0\n",
      "          GB       0.00      0.00      0.00         0\n",
      "          ES       0.00      0.00      0.00         0\n",
      "          CA       0.00      0.00      0.00         0\n",
      "          DE       0.00      0.00      0.00         0\n",
      "          NL       0.00      0.00      0.00         0\n",
      "          AU       0.00      0.00      0.00         0\n",
      "          PT       0.00      0.00      0.00         0\n",
      "\n",
      "   micro avg       0.00      0.00      0.00         0\n",
      "   macro avg       0.00      0.00      0.00         0\n",
      "weighted avg       0.00      0.00      0.00         0\n",
      "\n",
      "\n",
      "Precision:    0.504\n",
      "Accuracy:     0.494\n",
      "\n"
     ]
    }
   ],
   "source": [
    "print(\"\\n\\nKNN 1 Neighbor Performance\")\n",
    "s = classification_report(y_test, clf.predict(x_test), labels, targets)\n",
    "print(s)\n",
    "s = score(y_test,knn1.predict(x_test))\n",
    "print_score(s)"
   ]
  },
  {
   "cell_type": "code",
   "execution_count": 343,
   "metadata": {},
   "outputs": [
    {
     "name": "stdout",
     "output_type": "stream",
     "text": [
      "\n",
      "\n",
      "KNN 5 Neighbor Performance\n"
     ]
    },
    {
     "name": "stderr",
     "output_type": "stream",
     "text": [
      "C:\\Users\\shahs\\aa\\lib\\site-packages\\sklearn\\metrics\\classification.py:1143: UndefinedMetricWarning: Precision is ill-defined and being set to 0.0 in labels with no predicted samples.\n",
      "  'precision', 'predicted', average, warn_for)\n"
     ]
    },
    {
     "name": "stdout",
     "output_type": "stream",
     "text": [
      "\n",
      "Precision:    0.516\n",
      "Accuracy:     0.593\n",
      "\n",
      "[[    0     3     0     1     0     0     0    75     0     0    50     0]\n",
      " [    0     1     0     2     5     0     1   205     0     0   148     0]\n",
      " [    0     0     0     1     4     0     0   168     0     0    92     1]\n",
      " [    0     5     0     2     0     2     0   367     0     0   193     1]\n",
      " [    1     6     0     3    13     2     4   734     0     0   445     2]\n",
      " [    0     2     0     0     6     4     1   385     0     0   200     0]\n",
      " [    1     8     1     5     3     2     3   457     0     0   263     3]\n",
      " [    8    54     5    39   139    24    24 26052     0     0  4930    41]\n",
      " [    0     3     0     0     1     0     1   114     0     0    58     1]\n",
      " [    0     1     0     1     0     1     1    33     0     0    17     1]\n",
      " [    3    72     5    55   128    32    24  9577     0     0  5538    40]\n",
      " [    0    13     2     8    28     6     3  1565     1     0   827     6]]\n"
     ]
    }
   ],
   "source": [
    "print(\"\\n\\nKNN 5 Neighbor Performance\")\n",
    "\n",
    "s = score(y_test,knn5.predict(x_test))\n",
    "print_score(s)\n",
    "print(confusion_matrix(y_test, knn5.predict(x_test)))\n"
   ]
  },
  {
   "cell_type": "code",
   "execution_count": 349,
   "metadata": {},
   "outputs": [
    {
     "name": "stdout",
     "output_type": "stream",
     "text": [
      "\n",
      "\n",
      "KNN 10 Neighbor Performance\n"
     ]
    },
    {
     "name": "stderr",
     "output_type": "stream",
     "text": [
      "C:\\Users\\shahs\\aa\\lib\\site-packages\\sklearn\\metrics\\classification.py:1143: UndefinedMetricWarning: Precision is ill-defined and being set to 0.0 in labels with no predicted samples.\n",
      "  'precision', 'predicted', average, warn_for)\n"
     ]
    },
    {
     "name": "stdout",
     "output_type": "stream",
     "text": [
      "\n",
      "Precision:    0.529\n",
      "Accuracy:     0.61\n",
      "\n",
      "[[    0     0     0     0     0     0     0    73     0     0    56     0]\n",
      " [    0     0     0     0     0     0     0   193     0     0   168     1]\n",
      " [    0     0     0     0     1     0     0   162     0     0   103     0]\n",
      " [    0     0     0     0     0     0     1   362     0     0   207     0]\n",
      " [    0     0     0     0     5     0     1   689     0     0   514     1]\n",
      " [    0     0     0     0     1     0     1   357     0     0   239     0]\n",
      " [    0     0     0     0     0     0     0   466     0     0   280     0]\n",
      " [    0     0     0     0    27     0     9 26197     0     0  5079     4]\n",
      " [    0     0     0     0     1     0     0   107     0     0    70     0]\n",
      " [    0     0     0     0     0     0     0    36     0     0    19     0]\n",
      " [    0     1     0     0    26     0    18  9060     0     0  6362     7]\n",
      " [    0     0     1     0     6     0     3  1500     0     0   948     1]]\n"
     ]
    }
   ],
   "source": [
    "print(\"\\n\\nKNN 10 Neighbor Performance\")\n",
    "\n",
    "s = score(y_test,knn10.predict(x_test))\n",
    "print_score(s)\n",
    "print(confusion_matrix(y_test, knn10.predict(x_test)))\n"
   ]
  },
  {
   "cell_type": "code",
   "execution_count": 350,
   "metadata": {},
   "outputs": [],
   "source": [
    "#Neural Network\n",
    "#import NN package\n",
    "\n",
    "from sklearn.neural_network import MLPClassifier"
   ]
  },
  {
   "cell_type": "code",
   "execution_count": 351,
   "metadata": {},
   "outputs": [],
   "source": [
    "#Generate prediction using Neural Net\n",
    "\n",
    "clf = MLPClassifier()\n",
    "clf.fit(x_train,y_train)\n",
    "preds = clf.predict(x_test)"
   ]
  },
  {
   "cell_type": "code",
   "execution_count": 352,
   "metadata": {},
   "outputs": [
    {
     "data": {
      "text/plain": [
       "0.6369769315818076"
      ]
     },
     "execution_count": 352,
     "metadata": {},
     "output_type": "execute_result"
    }
   ],
   "source": [
    "#Neural Network accuracy score - 63.6%\n",
    "\n",
    "NN = accuracy_score(y_test,preds)\n",
    "NN"
   ]
  },
  {
   "cell_type": "markdown",
   "metadata": {},
   "source": [
    "## Decision Tree"
   ]
  },
  {
   "cell_type": "code",
   "execution_count": 353,
   "metadata": {},
   "outputs": [],
   "source": [
    "from time import time\n",
    "from math import sqrt\n",
    "import logging\n",
    "import os\n",
    "import sys\n",
    "import csv\n",
    "import datetime\n",
    "\n",
    "\n",
    "total = {}\n",
    "started = {}\n",
    "model_perf={}\n",
    "\n",
    "        \n",
    "def start(key):\n",
    "    started[key]=time()\n",
    "\n",
    "\n",
    "def stop(key):\n",
    "    stop=time()\n",
    "    start=started.pop(key,None)\n",
    "    if start:\n",
    "        if key in total:\n",
    "            total[key].append(stop-float(start))\n",
    "        else:\n",
    "            total[key]=[stop-float(start)]\n",
    "    else:\n",
    "        logging.error(\"stopping non started timer: %s\"%key)"
   ]
  },
  {
   "cell_type": "code",
   "execution_count": 354,
   "metadata": {},
   "outputs": [],
   "source": [
    "#Decision Tree\n",
    "from sklearn.tree import DecisionTreeClassifier\n",
    "start('dt')\n",
    "dt = DecisionTreeClassifier()\n",
    "dt.fit(x_train, y_train)\n",
    "start('dt')"
   ]
  },
  {
   "cell_type": "code",
   "execution_count": 355,
   "metadata": {},
   "outputs": [
    {
     "data": {
      "text/html": [
       "<div>\n",
       "<style scoped>\n",
       "    .dataframe tbody tr th:only-of-type {\n",
       "        vertical-align: middle;\n",
       "    }\n",
       "\n",
       "    .dataframe tbody tr th {\n",
       "        vertical-align: top;\n",
       "    }\n",
       "\n",
       "    .dataframe thead th {\n",
       "        text-align: right;\n",
       "    }\n",
       "</style>\n",
       "<table border=\"1\" class=\"dataframe\">\n",
       "  <thead>\n",
       "    <tr style=\"text-align: right;\">\n",
       "      <th></th>\n",
       "      <th>value</th>\n",
       "    </tr>\n",
       "    <tr>\n",
       "      <th>feature</th>\n",
       "      <th></th>\n",
       "    </tr>\n",
       "  </thead>\n",
       "  <tbody>\n",
       "    <tr>\n",
       "      <th>timestamp_first_active</th>\n",
       "      <td>0.1510</td>\n",
       "    </tr>\n",
       "    <tr>\n",
       "      <th>date_first_booking</th>\n",
       "      <td>0.1065</td>\n",
       "    </tr>\n",
       "    <tr>\n",
       "      <th>date_first_active</th>\n",
       "      <td>0.1016</td>\n",
       "    </tr>\n",
       "    <tr>\n",
       "      <th>age</th>\n",
       "      <td>0.0981</td>\n",
       "    </tr>\n",
       "    <tr>\n",
       "      <th>date_account_created</th>\n",
       "      <td>0.0977</td>\n",
       "    </tr>\n",
       "    <tr>\n",
       "      <th>12_count</th>\n",
       "      <td>0.0350</td>\n",
       "    </tr>\n",
       "    <tr>\n",
       "      <th>week_account_created</th>\n",
       "      <td>0.0324</td>\n",
       "    </tr>\n",
       "    <tr>\n",
       "      <th>weekday_first_active</th>\n",
       "      <td>0.0312</td>\n",
       "    </tr>\n",
       "    <tr>\n",
       "      <th>acculynk_bin_check_success_count</th>\n",
       "      <td>0.0248</td>\n",
       "    </tr>\n",
       "    <tr>\n",
       "      <th>year_first_active</th>\n",
       "      <td>0.0235</td>\n",
       "    </tr>\n",
       "  </tbody>\n",
       "</table>\n",
       "</div>"
      ],
      "text/plain": [
       "                                   value\n",
       "feature                                 \n",
       "timestamp_first_active            0.1510\n",
       "date_first_booking                0.1065\n",
       "date_first_active                 0.1016\n",
       "age                               0.0981\n",
       "date_account_created              0.0977\n",
       "12_count                          0.0350\n",
       "week_account_created              0.0324\n",
       "weekday_first_active              0.0312\n",
       "acculynk_bin_check_success_count  0.0248\n",
       "year_first_active                 0.0235"
      ]
     },
     "execution_count": 355,
     "metadata": {},
     "output_type": "execute_result"
    }
   ],
   "source": [
    "feature_imp = pd.DataFrame(sorted(zip(map(lambda x: round(x, 4), dt.feature_importances_), X.columns.tolist()), \n",
    "             reverse=True))\n",
    "feature_imp.columns = ['value','feature']\n",
    "feature_imp.set_index('feature',inplace=True)\n",
    "feature_imp.head(10)"
   ]
  },
  {
   "cell_type": "code",
   "execution_count": 356,
   "metadata": {},
   "outputs": [],
   "source": [
    "start('dt')\n",
    "y_pred_dt=dt.predict(x_test)\n",
    "stop('dt')"
   ]
  },
  {
   "cell_type": "code",
   "execution_count": 357,
   "metadata": {},
   "outputs": [
    {
     "name": "stdout",
     "output_type": "stream",
     "text": [
      "Accuracy:0.6251897382081217\n"
     ]
    }
   ],
   "source": [
    "from sklearn.metrics import accuracy_score,confusion_matrix\n",
    "print ('Accuracy:' + str(accuracy_score(y_test, y_pred_dt)))\n",
    "model_perf['dt','Accuracy'] = accuracy_score(y_test, y_pred_dt)"
   ]
  },
  {
   "cell_type": "markdown",
   "metadata": {},
   "source": [
    "## Logistic regression model"
   ]
  },
  {
   "cell_type": "code",
   "execution_count": 358,
   "metadata": {
    "scrolled": true
   },
   "outputs": [
    {
     "name": "stderr",
     "output_type": "stream",
     "text": [
      "C:\\Users\\shahs\\aa\\lib\\site-packages\\sklearn\\linear_model\\logistic.py:433: FutureWarning: Default solver will be changed to 'lbfgs' in 0.22. Specify a solver to silence this warning.\n",
      "  FutureWarning)\n",
      "C:\\Users\\shahs\\aa\\lib\\site-packages\\sklearn\\linear_model\\logistic.py:460: FutureWarning: Default multi_class will be changed to 'auto' in 0.22. Specify the multi_class option to silence this warning.\n",
      "  \"this warning.\", FutureWarning)\n"
     ]
    }
   ],
   "source": [
    "#We first built a Logistic regression model optimised for OVR (One Vs Rest). Since more than 3/4 of the country destination is accounted for by 'NDF' and 'US' we evaluated the performance of the Logistic Regression model optimised to minimize the loss for OVR.\n",
    "from sklearn.linear_model import LogisticRegression\n",
    "start('logr')\n",
    "logr = LogisticRegression()\n",
    "logr.fit(x_train, y_train)\n",
    "stop('logr')"
   ]
  },
  {
   "cell_type": "code",
   "execution_count": 359,
   "metadata": {},
   "outputs": [
    {
     "data": {
      "text/html": [
       "<div>\n",
       "<style scoped>\n",
       "    .dataframe tbody tr th:only-of-type {\n",
       "        vertical-align: middle;\n",
       "    }\n",
       "\n",
       "    .dataframe tbody tr th {\n",
       "        vertical-align: top;\n",
       "    }\n",
       "\n",
       "    .dataframe thead th {\n",
       "        text-align: right;\n",
       "    }\n",
       "</style>\n",
       "<table border=\"1\" class=\"dataframe\">\n",
       "  <thead>\n",
       "    <tr style=\"text-align: right;\">\n",
       "      <th>Predicted Destination</th>\n",
       "      <th>NDF</th>\n",
       "      <th>US</th>\n",
       "    </tr>\n",
       "    <tr>\n",
       "      <th>Actual Destination</th>\n",
       "      <th></th>\n",
       "      <th></th>\n",
       "    </tr>\n",
       "  </thead>\n",
       "  <tbody>\n",
       "    <tr>\n",
       "      <th>AU</th>\n",
       "      <td>67</td>\n",
       "      <td>62</td>\n",
       "    </tr>\n",
       "    <tr>\n",
       "      <th>CA</th>\n",
       "      <td>183</td>\n",
       "      <td>179</td>\n",
       "    </tr>\n",
       "    <tr>\n",
       "      <th>DE</th>\n",
       "      <td>147</td>\n",
       "      <td>119</td>\n",
       "    </tr>\n",
       "    <tr>\n",
       "      <th>ES</th>\n",
       "      <td>328</td>\n",
       "      <td>242</td>\n",
       "    </tr>\n",
       "    <tr>\n",
       "      <th>FR</th>\n",
       "      <td>688</td>\n",
       "      <td>522</td>\n",
       "    </tr>\n",
       "    <tr>\n",
       "      <th>GB</th>\n",
       "      <td>314</td>\n",
       "      <td>284</td>\n",
       "    </tr>\n",
       "    <tr>\n",
       "      <th>IT</th>\n",
       "      <td>417</td>\n",
       "      <td>329</td>\n",
       "    </tr>\n",
       "    <tr>\n",
       "      <th>NDF</th>\n",
       "      <td>26618</td>\n",
       "      <td>4698</td>\n",
       "    </tr>\n",
       "    <tr>\n",
       "      <th>NL</th>\n",
       "      <td>90</td>\n",
       "      <td>88</td>\n",
       "    </tr>\n",
       "    <tr>\n",
       "      <th>PT</th>\n",
       "      <td>33</td>\n",
       "      <td>22</td>\n",
       "    </tr>\n",
       "    <tr>\n",
       "      <th>US</th>\n",
       "      <td>8392</td>\n",
       "      <td>7082</td>\n",
       "    </tr>\n",
       "    <tr>\n",
       "      <th>other</th>\n",
       "      <td>1418</td>\n",
       "      <td>1041</td>\n",
       "    </tr>\n",
       "  </tbody>\n",
       "</table>\n",
       "</div>"
      ],
      "text/plain": [
       "Predicted Destination    NDF    US\n",
       "Actual Destination                \n",
       "AU                        67    62\n",
       "CA                       183   179\n",
       "DE                       147   119\n",
       "ES                       328   242\n",
       "FR                       688   522\n",
       "GB                       314   284\n",
       "IT                       417   329\n",
       "NDF                    26618  4698\n",
       "NL                        90    88\n",
       "PT                        33    22\n",
       "US                      8392  7082\n",
       "other                   1418  1041"
      ]
     },
     "execution_count": 359,
     "metadata": {},
     "output_type": "execute_result"
    }
   ],
   "source": [
    "start('logr')\n",
    "y_pred_logr=logr.predict(x_test)\n",
    "stop('logr')\n",
    "pd.crosstab(y_test, y_pred_logr, rownames=['Actual Destination'], colnames=['Predicted Destination'])\n"
   ]
  },
  {
   "cell_type": "code",
   "execution_count": 360,
   "metadata": {},
   "outputs": [
    {
     "name": "stdout",
     "output_type": "stream",
     "text": [
      "Accuracy:0.6315237149335682\n"
     ]
    }
   ],
   "source": [
    "from sklearn.metrics import accuracy_score,confusion_matrix\n",
    "print ('Accuracy:' + str(accuracy_score(y_test, y_pred_logr)))\n",
    "model_perf['logr','Accuracy'] = accuracy_score(y_test, y_pred_logr)"
   ]
  },
  {
   "cell_type": "code",
   "execution_count": null,
   "metadata": {},
   "outputs": [],
   "source": [
    "from sklearn.metrics import classification_report\n",
    "\n",
    "print(classification_report(y_test, y_pred_logr))"
   ]
  },
  {
   "cell_type": "code",
   "execution_count": 361,
   "metadata": {},
   "outputs": [],
   "source": [
    "#Next we built built a Logistic regression Multinomial classification model. Since the primary objective of the problem at hand was to predict the possible destination a user will book we hypothesized that this model may have a lower accuracy score but it will do better on the nDCG score.\n",
    "from sklearn.linear_model import LogisticRegression\n",
    "start('logr_mlt')\n",
    "logr_mlt = LogisticRegression(n_jobs=1,multi_class='multinomial',solver='newton-cg')\n",
    "logr_mlt.fit(x_train, y_train)\n",
    "stop('logr_mlt')"
   ]
  },
  {
   "cell_type": "code",
   "execution_count": 362,
   "metadata": {},
   "outputs": [
    {
     "data": {
      "text/html": [
       "<div>\n",
       "<style scoped>\n",
       "    .dataframe tbody tr th:only-of-type {\n",
       "        vertical-align: middle;\n",
       "    }\n",
       "\n",
       "    .dataframe tbody tr th {\n",
       "        vertical-align: top;\n",
       "    }\n",
       "\n",
       "    .dataframe thead th {\n",
       "        text-align: right;\n",
       "    }\n",
       "</style>\n",
       "<table border=\"1\" class=\"dataframe\">\n",
       "  <thead>\n",
       "    <tr style=\"text-align: right;\">\n",
       "      <th>Predicted Destination</th>\n",
       "      <th>NDF</th>\n",
       "      <th>US</th>\n",
       "    </tr>\n",
       "    <tr>\n",
       "      <th>Actual Destination</th>\n",
       "      <th></th>\n",
       "      <th></th>\n",
       "    </tr>\n",
       "  </thead>\n",
       "  <tbody>\n",
       "    <tr>\n",
       "      <th>AU</th>\n",
       "      <td>66</td>\n",
       "      <td>63</td>\n",
       "    </tr>\n",
       "    <tr>\n",
       "      <th>CA</th>\n",
       "      <td>180</td>\n",
       "      <td>182</td>\n",
       "    </tr>\n",
       "    <tr>\n",
       "      <th>DE</th>\n",
       "      <td>142</td>\n",
       "      <td>124</td>\n",
       "    </tr>\n",
       "    <tr>\n",
       "      <th>ES</th>\n",
       "      <td>326</td>\n",
       "      <td>244</td>\n",
       "    </tr>\n",
       "    <tr>\n",
       "      <th>FR</th>\n",
       "      <td>679</td>\n",
       "      <td>531</td>\n",
       "    </tr>\n",
       "    <tr>\n",
       "      <th>GB</th>\n",
       "      <td>309</td>\n",
       "      <td>289</td>\n",
       "    </tr>\n",
       "    <tr>\n",
       "      <th>IT</th>\n",
       "      <td>415</td>\n",
       "      <td>331</td>\n",
       "    </tr>\n",
       "    <tr>\n",
       "      <th>NDF</th>\n",
       "      <td>26522</td>\n",
       "      <td>4794</td>\n",
       "    </tr>\n",
       "    <tr>\n",
       "      <th>NL</th>\n",
       "      <td>89</td>\n",
       "      <td>89</td>\n",
       "    </tr>\n",
       "    <tr>\n",
       "      <th>PT</th>\n",
       "      <td>33</td>\n",
       "      <td>22</td>\n",
       "    </tr>\n",
       "    <tr>\n",
       "      <th>US</th>\n",
       "      <td>8261</td>\n",
       "      <td>7213</td>\n",
       "    </tr>\n",
       "    <tr>\n",
       "      <th>other</th>\n",
       "      <td>1394</td>\n",
       "      <td>1065</td>\n",
       "    </tr>\n",
       "  </tbody>\n",
       "</table>\n",
       "</div>"
      ],
      "text/plain": [
       "Predicted Destination    NDF    US\n",
       "Actual Destination                \n",
       "AU                        66    63\n",
       "CA                       180   182\n",
       "DE                       142   124\n",
       "ES                       326   244\n",
       "FR                       679   531\n",
       "GB                       309   289\n",
       "IT                       415   331\n",
       "NDF                    26522  4794\n",
       "NL                        89    89\n",
       "PT                        33    22\n",
       "US                      8261  7213\n",
       "other                   1394  1065"
      ]
     },
     "execution_count": 362,
     "metadata": {},
     "output_type": "execute_result"
    }
   ],
   "source": [
    "start('logr_mlt')\n",
    "y_pred_logr_mlt=logr_mlt.predict(x_test)\n",
    "stop('logr_mlt')\n",
    "pd.crosstab(y_test, y_pred_logr_mlt, rownames=['Actual Destination'], colnames=['Predicted Destination'])"
   ]
  },
  {
   "cell_type": "code",
   "execution_count": 363,
   "metadata": {},
   "outputs": [
    {
     "name": "stdout",
     "output_type": "stream",
     "text": [
      "Accuracy:0.6321796000974458\n"
     ]
    }
   ],
   "source": [
    "from sklearn.metrics import accuracy_score,confusion_matrix\n",
    "print ('Accuracy:' + str(accuracy_score(y_test, y_pred_logr_mlt)))\n",
    "model_perf['logr_mlt','Accuracy'] = accuracy_score(y_test, y_pred_logr_mlt)"
   ]
  }
 ],
 "metadata": {
  "kernelspec": {
   "display_name": "Python 3",
   "language": "python",
   "name": "python3"
  },
  "language_info": {
   "codemirror_mode": {
    "name": "ipython",
    "version": 3
   },
   "file_extension": ".py",
   "mimetype": "text/x-python",
   "name": "python",
   "nbconvert_exporter": "python",
   "pygments_lexer": "ipython3",
   "version": "3.7.1"
  }
 },
 "nbformat": 4,
 "nbformat_minor": 2
}
